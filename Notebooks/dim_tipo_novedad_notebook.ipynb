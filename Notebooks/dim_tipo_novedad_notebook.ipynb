{
 "cells": [
  {
   "cell_type": "markdown",
   "id": "c9f1c228-bd33-4e08-9d5c-b7f9a9335f3b",
   "metadata": {},
   "source": [
    "# Notebook de la dimensión Tipo Novedad - Proceso ETL"
   ]
  },
  {
   "cell_type": "markdown",
   "id": "f4ccb45d-9403-449b-b218-bd26b72a4d1d",
   "metadata": {},
   "source": [
    "## 1. Configuración de conexiones (fuente y bodega)"
   ]
  },
  {
   "cell_type": "code",
   "execution_count": 1,
   "id": "b3471fd0-26b0-4c24-bc0b-93aa97697af8",
   "metadata": {},
   "outputs": [],
   "source": [
    "import yaml\n",
    "from sqlalchemy import create_engine\n",
    "import pandas as pd\n",
    "\n",
    "# Leer configuración desde archivo externo\n",
    "with open('config.yml', 'r') as f:\n",
    "    config = yaml.safe_load(f)\n",
    "    config_fuente = config['fuente']\n",
    "    config_bodega = config['bodega']\n",
    "\n",
    "# URLs de conexión\n",
    "url_fuente = (f\"{config_fuente['driver']}://{config_fuente['user']}:{config_fuente['password']}@\"\n",
    "              f\"{config_fuente['host']}:{config_fuente['port']}/{config_fuente['db']}\")\n",
    "\n",
    "url_bodega = (f\"{config_bodega['driver']}://{config_bodega['user']}:{config_bodega['password']}@\"\n",
    "              f\"{config_bodega['host']}:{config_bodega['port']}/{config_bodega['db']}\")\n",
    "\n",
    "# Engines SQLAlchemy\n",
    "engine_fuente = create_engine(url_fuente)\n",
    "engine_bodega = create_engine(url_bodega)"
   ]
  },
  {
   "cell_type": "markdown",
   "id": "8ad70bf3-b0ee-48cd-a51d-092549cb8632",
   "metadata": {},
   "source": [
    "## 2. Extracción de datos desde la base de datos - Extract"
   ]
  },
  {
   "cell_type": "code",
   "execution_count": 2,
   "id": "393f23c1-de4f-436a-96fe-9604fb724251",
   "metadata": {},
   "outputs": [
    {
     "name": "stdout",
     "output_type": "stream",
     "text": [
      "Tablas de la base de datos:\n",
      "['admin_interface_theme', 'areas_cliente', 'auth_user_user_permissions', 'clientes_coordinador', 'clientes_datosmensajero', 'clientes_mensajeroaquitoy_clientes', 'auth_permission', 'auth_group', 'auth_user_groups', 'auth_user', 'authtoken_token', 'ciudad', 'cliente', 'clientes_mensajeroaquitoy', 'area', 'django_migrations', 'departamento', 'clientes_usuarioaquitoy', 'django_admin_log', 'django_session', 'mensajeria_novedadesservicio', 'mensajeria_tiponovedad', 'mensajeria_origenservicio', 'mensajeria_tipopago', 'mensajeria_estado', 'mensajeria_tiposervicio', 'mensajeria_servicio', 'mensajeria_estadosservicio', 'mensajeria_tipovehiculo', 'sede', 'auth_group_permissions', 'django_content_type', 'tipo_cliente', 'mensajeria_destinoservicio', 'mensajeria_documentoasociado']\n"
     ]
    }
   ],
   "source": [
    "from sqlalchemy import inspect\n",
    "\n",
    "# Saber las columnas que hay en la base de datos OLTP\n",
    "inspector = inspect(engine_fuente)\n",
    "tablas = inspector.get_table_names()\n",
    "print(\"Tablas de la base de datos:\")\n",
    "print(tablas)"
   ]
  },
  {
   "cell_type": "code",
   "execution_count": 4,
   "id": "8f193b75-1974-4513-bf23-ca6c554777df",
   "metadata": {},
   "outputs": [
    {
     "data": {
      "text/html": [
       "<div>\n",
       "<style scoped>\n",
       "    .dataframe tbody tr th:only-of-type {\n",
       "        vertical-align: middle;\n",
       "    }\n",
       "\n",
       "    .dataframe tbody tr th {\n",
       "        vertical-align: top;\n",
       "    }\n",
       "\n",
       "    .dataframe thead th {\n",
       "        text-align: right;\n",
       "    }\n",
       "</style>\n",
       "<table border=\"1\" class=\"dataframe\">\n",
       "  <thead>\n",
       "    <tr style=\"text-align: right;\">\n",
       "      <th></th>\n",
       "      <th>id_tipo_novedad</th>\n",
       "      <th>descripcion_novedad</th>\n",
       "    </tr>\n",
       "  </thead>\n",
       "  <tbody>\n",
       "    <tr>\n",
       "      <th>0</th>\n",
       "      <td>2</td>\n",
       "      <td>No puedo continuar</td>\n",
       "    </tr>\n",
       "    <tr>\n",
       "      <th>1</th>\n",
       "      <td>1</td>\n",
       "      <td>Novedades del servicio</td>\n",
       "    </tr>\n",
       "  </tbody>\n",
       "</table>\n",
       "</div>"
      ],
      "text/plain": [
       "   id_tipo_novedad     descripcion_novedad\n",
       "0                2      No puedo continuar\n",
       "1                1  Novedades del servicio"
      ]
     },
     "execution_count": 4,
     "metadata": {},
     "output_type": "execute_result"
    }
   ],
   "source": [
    "# Consulta SQL\n",
    "query = \"\"\"\n",
    "SELECT \n",
    "    id AS id_tipo_novedad,\n",
    "    nombre AS descripcion_novedad\n",
    "FROM mensajeria_tiponovedad;\n",
    "\"\"\"\n",
    "\n",
    "# Ejecutar consulta\n",
    "df_tipo_novedad = pd.read_sql(query, engine_fuente)\n",
    "df_tipo_novedad"
   ]
  },
  {
   "cell_type": "code",
   "execution_count": 5,
   "id": "157a1401-0bd1-4b82-92e7-f5710368b6ce",
   "metadata": {},
   "outputs": [],
   "source": [
    "from datetime import datetime\n",
    "\n",
    "# Agregar columna de fecha de carga\n",
    "df_tipo_novedad[\"fecha_carga\"] = datetime.now().date()"
   ]
  },
  {
   "cell_type": "markdown",
   "id": "b2f90548-1eb0-4914-8e26-58626fc65d05",
   "metadata": {},
   "source": [
    "## 4. Guardado de la dimensión - Load"
   ]
  },
  {
   "cell_type": "code",
   "execution_count": 6,
   "id": "5d3df15f-cace-45e1-8362-b937cea540fa",
   "metadata": {},
   "outputs": [],
   "source": [
    "# Guardar como archivo CSV\n",
    "df_tipo_novedad.to_csv(\"dim_tipo_novedad.csv\", index=False)"
   ]
  },
  {
   "cell_type": "code",
   "execution_count": 7,
   "id": "67ede11c-e642-4f03-b6d1-9da7413178fe",
   "metadata": {},
   "outputs": [
    {
     "data": {
      "text/plain": [
       "2"
      ]
     },
     "execution_count": 7,
     "metadata": {},
     "output_type": "execute_result"
    }
   ],
   "source": [
    "# Cargar en la bodega de datos OLAP\n",
    "df_tipo_novedad.to_sql(\"dim_tipo_novedad\", engine_bodega, if_exists=\"replace\", index=False)"
   ]
  },
  {
   "cell_type": "code",
   "execution_count": 8,
   "id": "98d62b6b-d730-4cad-832b-9b07914a38c4",
   "metadata": {},
   "outputs": [
    {
     "name": "stdout",
     "output_type": "stream",
     "text": [
      "   id_tipo_novedad     descripcion_novedad fecha_carga\n",
      "0                2      No puedo continuar  2025-06-05\n",
      "1                1  Novedades del servicio  2025-06-05\n"
     ]
    }
   ],
   "source": [
    "# Verificación del archivo\n",
    "df_verificacion = pd.read_csv(\"dim_tipo_novedad.csv\")\n",
    "print(df_verificacion.head())"
   ]
  }
 ],
 "metadata": {
  "kernelspec": {
   "display_name": "Python 3 (ipykernel)",
   "language": "python",
   "name": "python3"
  },
  "language_info": {
   "codemirror_mode": {
    "name": "ipython",
    "version": 3
   },
   "file_extension": ".py",
   "mimetype": "text/x-python",
   "name": "python",
   "nbconvert_exporter": "python",
   "pygments_lexer": "ipython3",
   "version": "3.13.0"
  }
 },
 "nbformat": 4,
 "nbformat_minor": 5
}
