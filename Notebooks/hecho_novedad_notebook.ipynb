{
 "cells": [
  {
   "cell_type": "markdown",
   "id": "11e46a61",
   "metadata": {},
   "source": [
    "## 1. Configuración de conexiones (fuente y bodega)"
   ]
  },
  {
   "cell_type": "code",
   "execution_count": 16,
   "id": "022e8c95",
   "metadata": {},
   "outputs": [],
   "source": [
    "import yaml\n",
    "from sqlalchemy import create_engine\n",
    "import pandas as pd\n",
    "\n",
    "# Leer configuración desde archivo externo\n",
    "with open('config.yml', 'r') as f:\n",
    "    config = yaml.safe_load(f)\n",
    "    config_fuente = config['fuente']\n",
    "    config_bodega = config['bodega']\n",
    "\n",
    "# URLs de conexión\n",
    "url_fuente = (f\"{config_fuente['driver']}://{config_fuente['user']}:{config_fuente['password']}@\"\n",
    "              f\"{config_fuente['host']}:{config_fuente['port']}/{config_fuente['db']}\")\n",
    "\n",
    "url_bodega = (f\"{config_bodega['driver']}://{config_bodega['user']}:{config_bodega['password']}@\"\n",
    "              f\"{config_bodega['host']}:{config_bodega['port']}/{config_bodega['db']}\")\n",
    "\n",
    "# Engines SQLAlchemy\n",
    "engine_fuente = create_engine(url_fuente)\n",
    "engine_bodega = create_engine(url_bodega)"
   ]
  },
  {
   "cell_type": "markdown",
   "id": "9a7442e3",
   "metadata": {},
   "source": [
    "# 2. Extraccion de datos desde OLTP"
   ]
  },
  {
   "cell_type": "code",
   "execution_count": 17,
   "id": "45c18549",
   "metadata": {},
   "outputs": [],
   "source": [
    "df_novedades = pd.read_sql(\"SELECT * FROM mensajeria_novedadesservicio\", engine_fuente)\n",
    "df_servicio = pd.read_sql(\"SELECT id AS servicio_id, cliente_id, ciudad_origen_id, ciudad_destino_id, usuario_id, fecha_deseada FROM mensajeria_servicio\", engine_fuente)\n",
    "df_usuario = pd.read_sql(\"SELECT id AS usuario_id, sede_id FROM clientes_usuarioaquitoy\", engine_fuente)\n",
    "df_estados = pd.read_sql(\"SELECT servicio_id, estado_id, fecha FROM mensajeria_estadosservicio\", engine_fuente)"
   ]
  },
  {
   "cell_type": "markdown",
   "id": "82469c4e",
   "metadata": {},
   "source": [
    "# 3. Transformaciones"
   ]
  },
  {
   "cell_type": "code",
   "execution_count": 18,
   "id": "318ea9ca",
   "metadata": {},
   "outputs": [],
   "source": [
    "estado_actual = df_estados.sort_values(by='fecha').groupby('servicio_id').tail(1)[['servicio_id', 'estado_id']]\n",
    "estado_actual.rename(columns={'estado_id': 'id_estado_actual'}, inplace=True)\n",
    "\n",
    "df = df_novedades.merge(df_servicio, on='servicio_id', how='left')\n",
    "df = df.merge(df_usuario, on='usuario_id', how='left')\n",
    "df = df.merge(estado_actual, on='servicio_id', how='left')\n",
    "\n",
    "df_fecha = pd.read_csv(\"dim_fecha.csv\")\n",
    "df['fecha_novedad'] = pd.to_datetime(df['fecha_novedad'])\n",
    "df_fecha['date'] = pd.to_datetime(df_fecha['date']).dt.date\n",
    "df = df.merge(df_fecha[['id_fecha', 'date']], left_on=df['fecha_novedad'].dt.date, right_on='date', how='left')\n",
    "\n",
    "\n",
    "df_tiempo = pd.read_csv(\"dim_tiempo.csv\")\n",
    "df_tiempo['id_tiempo'] = df_tiempo.reset_index().index + 1  # Asegurar columna id_tiempo\n",
    "\n",
    "df['hora'] = pd.to_datetime(df['fecha_novedad']).dt.hour\n",
    "df['minuto'] = pd.to_datetime(df['fecha_novedad']).dt.minute\n",
    "\n",
    "df = df.merge(df_tiempo[['id_tiempo', 'hora', 'minuto']], on=['hora', 'minuto'], how='left')\n",
    "\n",
    "# Calculo del tiempo de retraso\n",
    "\n",
    "df['fecha_deseada'] = pd.to_datetime(df['fecha_deseada']).dt.tz_localize(None)\n",
    "df['fecha_novedad_dt'] = pd.to_datetime(df['fecha_novedad']).dt.tz_localize(None)\n",
    "\n",
    "df['tiempo_retraso_asociado'] = (df['fecha_novedad_dt'] - df['fecha_deseada']).dt.total_seconds() / 3600\n"
   ]
  },
  {
   "cell_type": "code",
   "execution_count": 19,
   "id": "661d22c6-cdbf-47cd-9ca4-e619125f064d",
   "metadata": {},
   "outputs": [
    {
     "name": "stdout",
     "output_type": "stream",
     "text": [
      "id_tiempo\n",
      "988     45\n",
      "1317    26\n",
      "728     24\n",
      "1341    21\n",
      "824     21\n",
      "dtype: int64\n"
     ]
    }
   ],
   "source": [
    "print(df.groupby('id_tiempo').size().sort_values(ascending=False).head())"
   ]
  },
  {
   "cell_type": "markdown",
   "id": "36874791",
   "metadata": {},
   "source": [
    "# 4. Construccion del hecho"
   ]
  },
  {
   "cell_type": "code",
   "execution_count": 20,
   "id": "fe2ff351",
   "metadata": {},
   "outputs": [],
   "source": [
    "hecho_novedades = df[[\n",
    "    'id', 'id_tiempo', 'id_fecha', 'cliente_id', 'sede_id',\n",
    "    'ciudad_origen_id', 'ciudad_destino_id', 'mensajero_id',\n",
    "    'id_estado_actual', 'tipo_novedad_id', 'tiempo_retraso_asociado'\n",
    "]].rename(columns={\n",
    "    'id': 'id_novedad',\n",
    "    'cliente_id': 'id_cliente',\n",
    "    'sede_id': 'id_sede_cliente',\n",
    "    'ciudad_origen_id': 'id_ciudad_origen',\n",
    "    'ciudad_destino_id': 'id_ciudad_destino',\n",
    "    'mensajero_id': 'id_mensajero',\n",
    "    'tipo_novedad_id': 'id_tipo_novedad'\n",
    "})\n"
   ]
  },
  {
   "cell_type": "markdown",
   "id": "09f8e36a",
   "metadata": {},
   "source": [
    "# 5. Guardar el hecho - Load"
   ]
  },
  {
   "cell_type": "code",
   "execution_count": 21,
   "id": "1a24aae3",
   "metadata": {},
   "outputs": [
    {
     "name": "stdout",
     "output_type": "stream",
     "text": [
      "Muestra de la tabla de hechos:\n",
      "   id_novedad  id_tiempo  id_fecha  id_cliente  id_sede_cliente  \\\n",
      "0           4        301       183           5                7   \n",
      "1           5        301       183           5                7   \n",
      "2           6        301       183           5                7   \n",
      "3           7        301       183           5                7   \n",
      "4           8        301       183           5                7   \n",
      "\n",
      "   id_ciudad_origen  id_ciudad_destino  id_mensajero  id_estado_actual  \\\n",
      "0                 1                  1             7                 5   \n",
      "1                 1                  1             7                 5   \n",
      "2                 1                  1             7                 5   \n",
      "3                 1                  1             7                 5   \n",
      "4                 1                  1             7                 5   \n",
      "\n",
      "   id_tipo_novedad  tiempo_retraso_asociado  \n",
      "0                1                    365.0  \n",
      "1                1                    365.0  \n",
      "2                1                    365.0  \n",
      "3                1                    365.0  \n",
      "4                1                    365.0  \n",
      "Filas con id_fecha nulo: 0\n",
      "Filas con id_tiempo nulo: 0\n"
     ]
    }
   ],
   "source": [
    "# Exportar a CSV\n",
    "hecho_novedades.to_csv(\"hecho_novedades.csv\", index=False)\n",
    "\n",
    "# Cargar a base de datos OLAP\n",
    "hecho_novedades.to_sql(\"hecho_novedades\", engine_bodega, if_exists=\"replace\", index=False)\n",
    "\n",
    "print(\"Muestra de la tabla de hechos:\")\n",
    "print(hecho_novedades.head())\n",
    "\n",
    "print(\"Filas con id_fecha nulo:\", hecho_novedades['id_fecha'].isnull().sum())\n",
    "print(\"Filas con id_tiempo nulo:\", hecho_novedades['id_tiempo'].isnull().sum())\n"
   ]
  },
  {
   "cell_type": "code",
   "execution_count": 22,
   "id": "19d34146-73dc-4ae3-90de-6af4736eb316",
   "metadata": {},
   "outputs": [
    {
     "data": {
      "text/plain": [
       "Index(['id_novedad', 'id_tiempo', 'id_fecha', 'id_cliente', 'id_sede_cliente',\n",
       "       'id_ciudad_origen', 'id_ciudad_destino', 'id_mensajero',\n",
       "       'id_estado_actual', 'id_tipo_novedad', 'tiempo_retraso_asociado'],\n",
       "      dtype='object')"
      ]
     },
     "execution_count": 22,
     "metadata": {},
     "output_type": "execute_result"
    }
   ],
   "source": [
    "hecho_novedades.columns"
   ]
  }
 ],
 "metadata": {
  "kernelspec": {
   "display_name": "Python 3 (ipykernel)",
   "language": "python",
   "name": "python3"
  },
  "language_info": {
   "codemirror_mode": {
    "name": "ipython",
    "version": 3
   },
   "file_extension": ".py",
   "mimetype": "text/x-python",
   "name": "python",
   "nbconvert_exporter": "python",
   "pygments_lexer": "ipython3",
   "version": "3.13.0"
  }
 },
 "nbformat": 4,
 "nbformat_minor": 5
}
