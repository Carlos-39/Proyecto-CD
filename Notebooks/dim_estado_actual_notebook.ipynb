{
 "cells": [
  {
   "cell_type": "markdown",
   "id": "c7f20d7b-72b2-48af-a881-a9221ad81766",
   "metadata": {},
   "source": [
    "# Notebook de la dimensión Estado Actual - Proceso ETL"
   ]
  },
  {
   "cell_type": "markdown",
   "id": "4549f44c-4d3b-40cc-830a-fbbf21b001df",
   "metadata": {},
   "source": [
    "## 1. Configuración de conexiones (fuente y bodega)"
   ]
  },
  {
   "cell_type": "code",
   "execution_count": 1,
   "id": "09f894c1-63b7-40a7-9ae8-4d0a2bd675f2",
   "metadata": {},
   "outputs": [],
   "source": [
    "import yaml\n",
    "from sqlalchemy import create_engine\n",
    "import pandas as pd\n",
    "\n",
    "# Leer configuración desde archivo externo\n",
    "with open('config.yml', 'r') as f:\n",
    "    config = yaml.safe_load(f)\n",
    "    config_fuente = config['fuente']\n",
    "    config_bodega = config['bodega']\n",
    "\n",
    "# URLs de conexión\n",
    "url_fuente = (f\"{config_fuente['driver']}://{config_fuente['user']}:{config_fuente['password']}@\"\n",
    "              f\"{config_fuente['host']}:{config_fuente['port']}/{config_fuente['db']}\")\n",
    "\n",
    "url_bodega = (f\"{config_bodega['driver']}://{config_bodega['user']}:{config_bodega['password']}@\"\n",
    "              f\"{config_bodega['host']}:{config_bodega['port']}/{config_bodega['db']}\")\n",
    "\n",
    "# Engines SQLAlchemy\n",
    "engine_fuente = create_engine(url_fuente)\n",
    "engine_bodega = create_engine(url_bodega)"
   ]
  },
  {
   "cell_type": "markdown",
   "id": "005571f8-d14a-4e14-9f37-79bf7bd5b138",
   "metadata": {},
   "source": [
    "## 2 y 3. Extracción de datos desde la base de datos - Extract and Transform"
   ]
  },
  {
   "cell_type": "code",
   "execution_count": 2,
   "id": "19849d6a-3139-40eb-b7c1-0e41c4171ef2",
   "metadata": {},
   "outputs": [
    {
     "name": "stdout",
     "output_type": "stream",
     "text": [
      "Tablas de la base de datos:\n",
      "['admin_interface_theme', 'areas_cliente', 'auth_user_user_permissions', 'clientes_coordinador', 'clientes_datosmensajero', 'clientes_mensajeroaquitoy_clientes', 'auth_permission', 'auth_group', 'auth_user_groups', 'auth_user', 'authtoken_token', 'ciudad', 'cliente', 'clientes_mensajeroaquitoy', 'area', 'django_migrations', 'departamento', 'clientes_usuarioaquitoy', 'django_admin_log', 'django_session', 'mensajeria_novedadesservicio', 'mensajeria_tiponovedad', 'mensajeria_origenservicio', 'mensajeria_tipopago', 'mensajeria_estado', 'mensajeria_tiposervicio', 'mensajeria_servicio', 'mensajeria_estadosservicio', 'mensajeria_tipovehiculo', 'sede', 'auth_group_permissions', 'django_content_type', 'tipo_cliente', 'mensajeria_destinoservicio', 'mensajeria_documentoasociado']\n"
     ]
    }
   ],
   "source": [
    "from sqlalchemy import inspect\n",
    "\n",
    "# Saber las columnas que hay en la base de datos OLTP\n",
    "inspector = inspect(engine_fuente)\n",
    "tablas = inspector.get_table_names()\n",
    "print(\"Tablas de la base de datos:\")\n",
    "print(tablas)"
   ]
  },
  {
   "cell_type": "code",
   "execution_count": 3,
   "id": "c7452f3a-f36a-4dda-a5cc-ee2a1ecd325b",
   "metadata": {},
   "outputs": [
    {
     "data": {
      "text/html": [
       "<div>\n",
       "<style scoped>\n",
       "    .dataframe tbody tr th:only-of-type {\n",
       "        vertical-align: middle;\n",
       "    }\n",
       "\n",
       "    .dataframe tbody tr th {\n",
       "        vertical-align: top;\n",
       "    }\n",
       "\n",
       "    .dataframe thead th {\n",
       "        text-align: right;\n",
       "    }\n",
       "</style>\n",
       "<table border=\"1\" class=\"dataframe\">\n",
       "  <thead>\n",
       "    <tr style=\"text-align: right;\">\n",
       "      <th></th>\n",
       "      <th>id_estado</th>\n",
       "      <th>nombre_estado</th>\n",
       "      <th>descripcion_estado</th>\n",
       "    </tr>\n",
       "  </thead>\n",
       "  <tbody>\n",
       "    <tr>\n",
       "      <th>0</th>\n",
       "      <td>4</td>\n",
       "      <td>Recogido por mensajero</td>\n",
       "      <td>Recogido por mensajero</td>\n",
       "    </tr>\n",
       "    <tr>\n",
       "      <th>1</th>\n",
       "      <td>5</td>\n",
       "      <td>Entregado en destino</td>\n",
       "      <td>Entregado en destino</td>\n",
       "    </tr>\n",
       "    <tr>\n",
       "      <th>2</th>\n",
       "      <td>3</td>\n",
       "      <td>Con novedad</td>\n",
       "      <td>Tiene novedad</td>\n",
       "    </tr>\n",
       "    <tr>\n",
       "      <th>3</th>\n",
       "      <td>6</td>\n",
       "      <td>Terminado completo</td>\n",
       "      <td>Terminado completo</td>\n",
       "    </tr>\n",
       "    <tr>\n",
       "      <th>4</th>\n",
       "      <td>1</td>\n",
       "      <td>Iniciado</td>\n",
       "      <td>Creado por el usuario</td>\n",
       "    </tr>\n",
       "    <tr>\n",
       "      <th>5</th>\n",
       "      <td>2</td>\n",
       "      <td>Con mensajero Asignado</td>\n",
       "      <td>Con mensajero Asignado</td>\n",
       "    </tr>\n",
       "  </tbody>\n",
       "</table>\n",
       "</div>"
      ],
      "text/plain": [
       "   id_estado           nombre_estado      descripcion_estado\n",
       "0          4  Recogido por mensajero  Recogido por mensajero\n",
       "1          5    Entregado en destino    Entregado en destino\n",
       "2          3             Con novedad           Tiene novedad\n",
       "3          6      Terminado completo      Terminado completo\n",
       "4          1                Iniciado   Creado por el usuario\n",
       "5          2  Con mensajero Asignado  Con mensajero Asignado"
      ]
     },
     "execution_count": 3,
     "metadata": {},
     "output_type": "execute_result"
    }
   ],
   "source": [
    "# Consulta SQL para extraer los datos de la dimensión estado - aca ya se hizo el paso de transform desde la consulta SQL\n",
    "query = \"\"\"\n",
    "SELECT \n",
    "    id AS id_estado,\n",
    "    nombre AS nombre_estado,\n",
    "    descripcion AS descripcion_estado\n",
    "FROM mensajeria_estado;\n",
    "\"\"\"\n",
    "\n",
    "# Ejecutar la consulta y cargar los datos en un DataFrame\n",
    "dim_estado_actual = pd.read_sql_query(query, engine_fuente)\n",
    "dim_estado_actual"
   ]
  },
  {
   "cell_type": "code",
   "execution_count": 4,
   "id": "f8aefd6a-e4e8-46c5-a7cf-a857614b9c8a",
   "metadata": {},
   "outputs": [],
   "source": [
    "from datetime import datetime\n",
    "\n",
    "# Agregar columna de fecha de carga\n",
    "dim_estado_actual[\"fecha_carga\"] = datetime.now().date()"
   ]
  },
  {
   "cell_type": "markdown",
   "id": "164bab76-9b6e-4bea-b2e5-11f1b7dd6e4b",
   "metadata": {},
   "source": [
    "## 4. Guardado de la dimensión - Load"
   ]
  },
  {
   "cell_type": "code",
   "execution_count": 5,
   "id": "bd6432ce-6555-45b6-9886-1cfcc26df9b3",
   "metadata": {},
   "outputs": [],
   "source": [
    "# Guardar como archivo CSV\n",
    "dim_estado_actual.to_csv(\"dim_estado_actual.csv\", index=False)"
   ]
  },
  {
   "cell_type": "code",
   "execution_count": 6,
   "id": "60c49c87-ba7e-4d02-8026-b80d8e6e3b60",
   "metadata": {},
   "outputs": [
    {
     "data": {
      "text/plain": [
       "6"
      ]
     },
     "execution_count": 6,
     "metadata": {},
     "output_type": "execute_result"
    }
   ],
   "source": [
    "# Cargar en la bodega de datos OLAP\n",
    "dim_estado_actual.to_sql(\"dim_estado_actual\", engine_bodega, if_exists=\"replace\", index=False)"
   ]
  },
  {
   "cell_type": "code",
   "execution_count": 7,
   "id": "58479414-7a32-477f-991f-d1ef801261dc",
   "metadata": {},
   "outputs": [
    {
     "name": "stdout",
     "output_type": "stream",
     "text": [
      "   id_estado           nombre_estado      descripcion_estado fecha_carga\n",
      "0          4  Recogido por mensajero  Recogido por mensajero  2025-06-05\n",
      "1          5    Entregado en destino    Entregado en destino  2025-06-05\n",
      "2          3             Con novedad           Tiene novedad  2025-06-05\n",
      "3          6      Terminado completo      Terminado completo  2025-06-05\n",
      "4          1                Iniciado   Creado por el usuario  2025-06-05\n"
     ]
    }
   ],
   "source": [
    "# Verificación del archivo\n",
    "df_verificacion = pd.read_csv(\"dim_estado_actual.csv\")\n",
    "print(df_verificacion.head())"
   ]
  }
 ],
 "metadata": {
  "kernelspec": {
   "display_name": "Python 3 (ipykernel)",
   "language": "python",
   "name": "python3"
  },
  "language_info": {
   "codemirror_mode": {
    "name": "ipython",
    "version": 3
   },
   "file_extension": ".py",
   "mimetype": "text/x-python",
   "name": "python",
   "nbconvert_exporter": "python",
   "pygments_lexer": "ipython3",
   "version": "3.13.0"
  }
 },
 "nbformat": 4,
 "nbformat_minor": 5
}
