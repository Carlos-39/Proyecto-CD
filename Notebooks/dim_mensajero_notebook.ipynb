{
 "cells": [
  {
   "cell_type": "markdown",
   "id": "a7f3012a-495f-4e29-8819-e41dcca79d96",
   "metadata": {},
   "source": [
    "# Notebook de la dimensión Mensajero - Proceso ETL"
   ]
  },
  {
   "cell_type": "markdown",
   "id": "cce3b2c0-3d60-425b-85c8-b17abddd3ba9",
   "metadata": {},
   "source": [
    "## 1. Configuración de conexiones (fuente y bodega)"
   ]
  },
  {
   "cell_type": "code",
   "execution_count": 1,
   "id": "e6a0a99e-8c11-4d4c-996d-a4d9e68fa0ec",
   "metadata": {},
   "outputs": [],
   "source": [
    "import yaml\n",
    "from sqlalchemy import create_engine\n",
    "import pandas as pd\n",
    "\n",
    "# Leer configuración desde archivo externo\n",
    "with open('config.yml', 'r') as f:\n",
    "    config = yaml.safe_load(f)\n",
    "    config_fuente = config['fuente']\n",
    "    config_bodega = config['bodega']\n",
    "\n",
    "# URLs de conexión\n",
    "url_fuente = (f\"{config_fuente['driver']}://{config_fuente['user']}:{config_fuente['password']}@\"\n",
    "              f\"{config_fuente['host']}:{config_fuente['port']}/{config_fuente['db']}\")\n",
    "\n",
    "url_bodega = (f\"{config_bodega['driver']}://{config_bodega['user']}:{config_bodega['password']}@\"\n",
    "              f\"{config_bodega['host']}:{config_bodega['port']}/{config_bodega['db']}\")\n",
    "\n",
    "# Engines SQLAlchemy\n",
    "engine_fuente = create_engine(url_fuente)\n",
    "engine_bodega = create_engine(url_bodega)"
   ]
  },
  {
   "cell_type": "markdown",
   "id": "e49c1ce8-8d0a-4616-9892-75d1cadb0d94",
   "metadata": {},
   "source": [
    "## 2 y 3. Extracción y transgormación de datos desde la base de datos - Extract and Transform"
   ]
  },
  {
   "cell_type": "code",
   "execution_count": 2,
   "id": "d5a812f2-a084-4979-b7f4-3a1fd65b532d",
   "metadata": {},
   "outputs": [
    {
     "name": "stdout",
     "output_type": "stream",
     "text": [
      "Tablas de la base de datos:\n",
      "['admin_interface_theme', 'areas_cliente', 'auth_user_user_permissions', 'clientes_coordinador', 'clientes_datosmensajero', 'clientes_mensajeroaquitoy_clientes', 'auth_permission', 'auth_group', 'auth_user_groups', 'auth_user', 'authtoken_token', 'ciudad', 'cliente', 'clientes_mensajeroaquitoy', 'area', 'django_migrations', 'departamento', 'clientes_usuarioaquitoy', 'django_admin_log', 'django_session', 'mensajeria_novedadesservicio', 'mensajeria_tiponovedad', 'mensajeria_origenservicio', 'mensajeria_tipopago', 'mensajeria_estado', 'mensajeria_tiposervicio', 'mensajeria_servicio', 'mensajeria_estadosservicio', 'mensajeria_tipovehiculo', 'sede', 'auth_group_permissions', 'django_content_type', 'tipo_cliente', 'mensajeria_destinoservicio', 'mensajeria_documentoasociado']\n"
     ]
    }
   ],
   "source": [
    "from sqlalchemy import inspect\n",
    "\n",
    "# Saber las columnas que hay en la base de datos OLTP\n",
    "inspector = inspect(engine_fuente)\n",
    "tablas = inspector.get_table_names()\n",
    "print(\"Tablas de la base de datos:\")\n",
    "print(tablas)"
   ]
  },
  {
   "cell_type": "code",
   "execution_count": 3,
   "id": "803ea288-ff4a-4e9c-94af-1ad0e2fc3557",
   "metadata": {},
   "outputs": [],
   "source": [
    "# Consulta SQL a la base de datos OLTP - se hace proceso de transform en algunas columnas\n",
    "query = \"\"\"\n",
    "SELECT \n",
    "    m.id AS id_mensajero,\n",
    "    u.first_name || ' ' || u.last_name AS nombre_mensajero,\n",
    "    m.activo,\n",
    "    m.salario,\n",
    "    m.ciudad_operacion_id AS id_ciudad,\n",
    "    c.nombre AS nombre_ciudad,\n",
    "    d.departamento_id AS id_departamento,\n",
    "    d.nombre AS nombre_departamento\n",
    "FROM clientes_mensajeroaquitoy m\n",
    "JOIN auth_user u ON m.user_id = u.id\n",
    "LEFT JOIN ciudad c ON m.ciudad_operacion_id = c.ciudad_id\n",
    "LEFT JOIN departamento d ON c.departamento_id = d.departamento_id;\n",
    "\"\"\"\n",
    "\n",
    "# Ejecutar consulta\n",
    "df_mensajero = pd.read_sql(query, engine_fuente)"
   ]
  },
  {
   "cell_type": "code",
   "execution_count": 6,
   "id": "25617bae-5d70-4bab-90d9-5aabdf9d8ef4",
   "metadata": {},
   "outputs": [],
   "source": [
    "from datetime import datetime\n",
    "\n",
    "# Agregar columna de fecha de carga\n",
    "df_mensajero[\"fecha_carga\"] = datetime.now().date()"
   ]
  },
  {
   "cell_type": "code",
   "execution_count": 7,
   "id": "288dc813-a8e2-41a8-9321-5df4b1535290",
   "metadata": {},
   "outputs": [],
   "source": [
    "# Eliminar duplicados por seguridad\n",
    "df_mensajero = df_mensajero.drop_duplicates(subset=['id_mensajero'])"
   ]
  },
  {
   "cell_type": "code",
   "execution_count": 8,
   "id": "d2a99dda-bcf9-42aa-a38a-7a084e90b0fe",
   "metadata": {},
   "outputs": [
    {
     "name": "stdout",
     "output_type": "stream",
     "text": [
      "   id_mensajero                    nombre_mensajero  activo    salario  \\\n",
      "0             8  pepito_el_rapido pepito_el_furioso    True  1160000.0   \n",
      "1            10  pepito_el_rapido pepito_el_furioso    True  1160000.0   \n",
      "2            11  pepito_el_rapido pepito_el_furioso    True  1160000.0   \n",
      "3            12  pepito_el_rapido pepito_el_furioso    True  1160000.0   \n",
      "4            13  pepito_el_rapido pepito_el_furioso    True  1160000.0   \n",
      "\n",
      "   id_ciudad nombre_ciudad  id_departamento nombre_departamento fecha_carga  \n",
      "0        2.0       PALMIRA              1.0     VALLE DEL CAUCA  2025-06-05  \n",
      "1        1.0          CALI              1.0     VALLE DEL CAUCA  2025-06-05  \n",
      "2        1.0          CALI              1.0     VALLE DEL CAUCA  2025-06-05  \n",
      "3        1.0          CALI              1.0     VALLE DEL CAUCA  2025-06-05  \n",
      "4        4.0         PASTO              4.0              NARIÑO  2025-06-05  \n"
     ]
    }
   ],
   "source": [
    "# Verificar\n",
    "print(df_mensajero.head())"
   ]
  },
  {
   "cell_type": "markdown",
   "id": "1805561c-c819-4561-8bb7-5f39de43b715",
   "metadata": {},
   "source": [
    "## 4. Guardado de la dimensión - Load"
   ]
  },
  {
   "cell_type": "code",
   "execution_count": 9,
   "id": "90966faa-f525-43e1-9990-6794d8330c47",
   "metadata": {},
   "outputs": [],
   "source": [
    "# Guardar como archivo CSV\n",
    "df_mensajero.to_csv(\"dim_mensajero.csv\", index=False)"
   ]
  },
  {
   "cell_type": "code",
   "execution_count": 10,
   "id": "7d095154-ef73-4fd8-93a5-d7280dc4c02f",
   "metadata": {},
   "outputs": [
    {
     "data": {
      "text/plain": [
       "50"
      ]
     },
     "execution_count": 10,
     "metadata": {},
     "output_type": "execute_result"
    }
   ],
   "source": [
    "# Cargar en la bodega de datos OLAP\n",
    "df_mensajero.to_sql(\"dim_mensajero\", engine_bodega, if_exists=\"replace\", index=False)"
   ]
  },
  {
   "cell_type": "code",
   "execution_count": 11,
   "id": "fcbcf1b4-e335-4f63-9258-916fd807093f",
   "metadata": {},
   "outputs": [
    {
     "name": "stdout",
     "output_type": "stream",
     "text": [
      "   id_mensajero                    nombre_mensajero  activo    salario  \\\n",
      "0             8  pepito_el_rapido pepito_el_furioso    True  1160000.0   \n",
      "1            10  pepito_el_rapido pepito_el_furioso    True  1160000.0   \n",
      "2            11  pepito_el_rapido pepito_el_furioso    True  1160000.0   \n",
      "3            12  pepito_el_rapido pepito_el_furioso    True  1160000.0   \n",
      "4            13  pepito_el_rapido pepito_el_furioso    True  1160000.0   \n",
      "\n",
      "   id_ciudad nombre_ciudad  id_departamento nombre_departamento fecha_carga  \n",
      "0        2.0       PALMIRA              1.0     VALLE DEL CAUCA  2025-06-05  \n",
      "1        1.0          CALI              1.0     VALLE DEL CAUCA  2025-06-05  \n",
      "2        1.0          CALI              1.0     VALLE DEL CAUCA  2025-06-05  \n",
      "3        1.0          CALI              1.0     VALLE DEL CAUCA  2025-06-05  \n",
      "4        4.0         PASTO              4.0              NARIÑO  2025-06-05  \n"
     ]
    }
   ],
   "source": [
    "# Verificación del archivo\n",
    "df_verificacion = pd.read_csv(\"dim_mensajero.csv\")\n",
    "print(df_verificacion.head())"
   ]
  }
 ],
 "metadata": {
  "kernelspec": {
   "display_name": "Python 3 (ipykernel)",
   "language": "python",
   "name": "python3"
  },
  "language_info": {
   "codemirror_mode": {
    "name": "ipython",
    "version": 3
   },
   "file_extension": ".py",
   "mimetype": "text/x-python",
   "name": "python",
   "nbconvert_exporter": "python",
   "pygments_lexer": "ipython3",
   "version": "3.13.0"
  }
 },
 "nbformat": 4,
 "nbformat_minor": 5
}
