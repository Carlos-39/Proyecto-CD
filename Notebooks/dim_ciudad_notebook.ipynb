{
 "cells": [
  {
   "cell_type": "markdown",
   "id": "c5902bb3-5b16-41bc-b57c-16a39b3c09ce",
   "metadata": {},
   "source": [
    "# Notebook de la dimensión Ciudad - Proceso ETL"
   ]
  },
  {
   "cell_type": "markdown",
   "id": "3f39cab2-e56e-483e-a18d-9352e87a1497",
   "metadata": {},
   "source": [
    "## 1. Configuración de conexiones (fuente y bodega)"
   ]
  },
  {
   "cell_type": "code",
   "execution_count": 3,
   "id": "cd901609-af4a-4482-a430-2dc64761eaf1",
   "metadata": {},
   "outputs": [],
   "source": [
    "import yaml\n",
    "from sqlalchemy import create_engine\n",
    "import pandas as pd\n",
    "\n",
    "# Leer configuración desde archivo externo\n",
    "with open('config.yml', 'r') as f:\n",
    "    config = yaml.safe_load(f)\n",
    "    config_fuente = config['fuente']\n",
    "    config_bodega = config['bodega']\n",
    "\n",
    "# URLs de conexión\n",
    "url_fuente = (f\"{config_fuente['driver']}://{config_fuente['user']}:{config_fuente['password']}@\"\n",
    "              f\"{config_fuente['host']}:{config_fuente['port']}/{config_fuente['db']}\")\n",
    "\n",
    "url_bodega = (f\"{config_bodega['driver']}://{config_bodega['user']}:{config_bodega['password']}@\"\n",
    "              f\"{config_bodega['host']}:{config_bodega['port']}/{config_bodega['db']}\")\n",
    "\n",
    "# Engines SQLAlchemy\n",
    "engine_fuente = create_engine(url_fuente)\n",
    "engine_bodega = create_engine(url_bodega)"
   ]
  },
  {
   "cell_type": "markdown",
   "id": "5c6b4798-8880-46e8-b881-44c595d3df43",
   "metadata": {},
   "source": [
    "## 2. Extracción de datos desde la base de datos - Extract"
   ]
  },
  {
   "cell_type": "code",
   "execution_count": 4,
   "id": "e7c1c5d5-f4ff-4323-be3d-ffbe995a5240",
   "metadata": {},
   "outputs": [
    {
     "name": "stdout",
     "output_type": "stream",
     "text": [
      "Tablas de la base de datos:\n",
      "['admin_interface_theme', 'areas_cliente', 'auth_user_user_permissions', 'clientes_coordinador', 'clientes_datosmensajero', 'clientes_mensajeroaquitoy_clientes', 'auth_permission', 'auth_group', 'auth_user_groups', 'auth_user', 'authtoken_token', 'ciudad', 'cliente', 'clientes_mensajeroaquitoy', 'area', 'django_migrations', 'departamento', 'clientes_usuarioaquitoy', 'django_admin_log', 'django_session', 'mensajeria_novedadesservicio', 'mensajeria_tiponovedad', 'mensajeria_origenservicio', 'mensajeria_tipopago', 'mensajeria_estado', 'mensajeria_tiposervicio', 'mensajeria_servicio', 'mensajeria_estadosservicio', 'mensajeria_tipovehiculo', 'sede', 'auth_group_permissions', 'django_content_type', 'tipo_cliente', 'mensajeria_destinoservicio', 'mensajeria_documentoasociado']\n"
     ]
    }
   ],
   "source": [
    "from sqlalchemy import inspect\n",
    "\n",
    "# Saber las columnas que hay en la base de datos OLTP\n",
    "inspector = inspect(engine_fuente)\n",
    "tablas = inspector.get_table_names()\n",
    "print(\"Tablas de la base de datos:\")\n",
    "print(tablas)"
   ]
  },
  {
   "cell_type": "code",
   "execution_count": 5,
   "id": "132ffc1a-4f82-42e5-b64d-f2dedeff746b",
   "metadata": {},
   "outputs": [],
   "source": [
    "# Lectura de tablas ciudad y departamento\n",
    "df_ciudad = pd.read_sql(\"SELECT * FROM ciudad;\", engine_fuente)\n",
    "df_departamento = pd.read_sql(\"SELECT * FROM departamento;\", engine_fuente)"
   ]
  },
  {
   "cell_type": "markdown",
   "id": "0af67853-f705-4450-974e-2cb6021f91c8",
   "metadata": {},
   "source": [
    "## 3. Transformación de los datos - Transform"
   ]
  },
  {
   "cell_type": "code",
   "execution_count": 6,
   "id": "584e578f-b84e-4e02-9b91-814d7e6c4c7d",
   "metadata": {},
   "outputs": [],
   "source": [
    "# Renombrar columnas\n",
    "df_departamento.rename(columns={\"nombre\": \"nombre_departamento\"}, inplace=True)\n",
    "df_ciudad.rename(columns={\"nombre\": \"nombre_ciudad\"}, inplace=True)"
   ]
  },
  {
   "cell_type": "code",
   "execution_count": 7,
   "id": "00e5f965-3bc9-445e-8676-4550d0e11154",
   "metadata": {},
   "outputs": [],
   "source": [
    "# Unir ciudad con departamento\n",
    "dim_ciudad = df_ciudad.merge(df_departamento, on=\"departamento_id\", how=\"left\")"
   ]
  },
  {
   "cell_type": "code",
   "execution_count": 9,
   "id": "553f7f23-bdb6-4c1a-92a4-c96bbc8d783d",
   "metadata": {},
   "outputs": [],
   "source": [
    "from datetime import datetime\n",
    "\n",
    "# Agregar columna de fecha de carga\n",
    "dim_ciudad[\"fecha_carga\"] = datetime.today().date()"
   ]
  },
  {
   "cell_type": "code",
   "execution_count": 10,
   "id": "25d70c08-6a66-48c8-b72b-43395609c641",
   "metadata": {},
   "outputs": [],
   "source": [
    "# Seleccionar y renombrar columnas\n",
    "dim_ciudad = dim_ciudad[[\"ciudad_id\", \"nombre_ciudad\", \"nombre_departamento\", \"fecha_carga\"]]\n",
    "dim_ciudad.rename(columns={\"ciudad_id\": \"id_ciudad\"}, inplace=True)"
   ]
  },
  {
   "cell_type": "code",
   "execution_count": 11,
   "id": "0128f015-14e3-40c8-a115-220b623215bf",
   "metadata": {},
   "outputs": [
    {
     "data": {
      "text/html": [
       "<div>\n",
       "<style scoped>\n",
       "    .dataframe tbody tr th:only-of-type {\n",
       "        vertical-align: middle;\n",
       "    }\n",
       "\n",
       "    .dataframe tbody tr th {\n",
       "        vertical-align: top;\n",
       "    }\n",
       "\n",
       "    .dataframe thead th {\n",
       "        text-align: right;\n",
       "    }\n",
       "</style>\n",
       "<table border=\"1\" class=\"dataframe\">\n",
       "  <thead>\n",
       "    <tr style=\"text-align: right;\">\n",
       "      <th></th>\n",
       "      <th>id_ciudad</th>\n",
       "      <th>nombre_ciudad</th>\n",
       "      <th>nombre_departamento</th>\n",
       "      <th>fecha_carga</th>\n",
       "    </tr>\n",
       "  </thead>\n",
       "  <tbody>\n",
       "    <tr>\n",
       "      <th>0</th>\n",
       "      <td>6</td>\n",
       "      <td>BUGA</td>\n",
       "      <td>VALLE DEL CAUCA</td>\n",
       "      <td>2025-06-05</td>\n",
       "    </tr>\n",
       "    <tr>\n",
       "      <th>1</th>\n",
       "      <td>5</td>\n",
       "      <td>BOGOTA</td>\n",
       "      <td>CUNDINAMARCA</td>\n",
       "      <td>2025-06-05</td>\n",
       "    </tr>\n",
       "    <tr>\n",
       "      <th>2</th>\n",
       "      <td>4</td>\n",
       "      <td>PASTO</td>\n",
       "      <td>NARIÑO</td>\n",
       "      <td>2025-06-05</td>\n",
       "    </tr>\n",
       "    <tr>\n",
       "      <th>3</th>\n",
       "      <td>3</td>\n",
       "      <td>POPAYAN</td>\n",
       "      <td>CAUCA</td>\n",
       "      <td>2025-06-05</td>\n",
       "    </tr>\n",
       "    <tr>\n",
       "      <th>4</th>\n",
       "      <td>2</td>\n",
       "      <td>PALMIRA</td>\n",
       "      <td>VALLE DEL CAUCA</td>\n",
       "      <td>2025-06-05</td>\n",
       "    </tr>\n",
       "  </tbody>\n",
       "</table>\n",
       "</div>"
      ],
      "text/plain": [
       "   id_ciudad nombre_ciudad nombre_departamento fecha_carga\n",
       "0          6          BUGA     VALLE DEL CAUCA  2025-06-05\n",
       "1          5        BOGOTA        CUNDINAMARCA  2025-06-05\n",
       "2          4         PASTO              NARIÑO  2025-06-05\n",
       "3          3       POPAYAN               CAUCA  2025-06-05\n",
       "4          2       PALMIRA     VALLE DEL CAUCA  2025-06-05"
      ]
     },
     "execution_count": 11,
     "metadata": {},
     "output_type": "execute_result"
    }
   ],
   "source": [
    "# Verificar resultado\n",
    "dim_ciudad.head()"
   ]
  },
  {
   "cell_type": "markdown",
   "id": "f9a1e28a-d5d3-410c-bbc1-bc3947ae581c",
   "metadata": {},
   "source": [
    "## 4. Guardado de la dimensión - Load"
   ]
  },
  {
   "cell_type": "code",
   "execution_count": 12,
   "id": "b34bc54f-72ae-4c84-ab1e-4425993ee848",
   "metadata": {},
   "outputs": [],
   "source": [
    "# Guardar como CSV\n",
    "dim_ciudad.to_csv(\"dim_ciudad.csv\", index=False)"
   ]
  },
  {
   "cell_type": "code",
   "execution_count": 13,
   "id": "b67cbc97-1137-42b7-80c0-9d25ba409c43",
   "metadata": {},
   "outputs": [
    {
     "data": {
      "text/plain": [
       "19"
      ]
     },
     "execution_count": 13,
     "metadata": {},
     "output_type": "execute_result"
    }
   ],
   "source": [
    "# Cargar en la bodega de datos OLAP\n",
    "dim_ciudad.to_sql(\"dim_ciudad\", engine_bodega, if_exists=\"replace\", index=False)"
   ]
  },
  {
   "cell_type": "code",
   "execution_count": 14,
   "id": "702bd445-bba0-4c87-ac44-36747f68872b",
   "metadata": {},
   "outputs": [
    {
     "name": "stdout",
     "output_type": "stream",
     "text": [
      "   id_ciudad nombre_ciudad nombre_departamento fecha_carga\n",
      "0          6          BUGA     VALLE DEL CAUCA  2025-06-05\n",
      "1          5        BOGOTA        CUNDINAMARCA  2025-06-05\n",
      "2          4         PASTO              NARIÑO  2025-06-05\n",
      "3          3       POPAYAN               CAUCA  2025-06-05\n",
      "4          2       PALMIRA     VALLE DEL CAUCA  2025-06-05\n"
     ]
    }
   ],
   "source": [
    "# Verificación del archivo\n",
    "df_verificacion = pd.read_csv(\"dim_ciudad.csv\")\n",
    "print(df_verificacion.head())"
   ]
  }
 ],
 "metadata": {
  "kernelspec": {
   "display_name": "Python 3 (ipykernel)",
   "language": "python",
   "name": "python3"
  },
  "language_info": {
   "codemirror_mode": {
    "name": "ipython",
    "version": 3
   },
   "file_extension": ".py",
   "mimetype": "text/x-python",
   "name": "python",
   "nbconvert_exporter": "python",
   "pygments_lexer": "ipython3",
   "version": "3.13.0"
  }
 },
 "nbformat": 4,
 "nbformat_minor": 5
}
