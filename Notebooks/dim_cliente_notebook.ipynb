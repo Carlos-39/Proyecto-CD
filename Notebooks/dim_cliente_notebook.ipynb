{
 "cells": [
  {
   "cell_type": "markdown",
   "id": "a41bac45-06c1-474f-b5c0-96c3fa2ad46a",
   "metadata": {},
   "source": [
    "# Notebook de la dimensión Cliente - Proceso ETL"
   ]
  },
  {
   "cell_type": "markdown",
   "id": "de258729-952c-46bb-98ec-508e1e85dccf",
   "metadata": {},
   "source": [
    "## 1. Configuración de conexiones (fuente y bodega)"
   ]
  },
  {
   "cell_type": "code",
   "execution_count": 39,
   "id": "f7988c87-a9f0-4ec5-86b9-c3afa70b13be",
   "metadata": {},
   "outputs": [],
   "source": [
    "import yaml\n",
    "from sqlalchemy import create_engine\n",
    "import pandas as pd\n",
    "\n",
    "# Leer configuración desde archivo externo\n",
    "with open('config.yml', 'r') as f:\n",
    "    config = yaml.safe_load(f)\n",
    "    config_fuente = config['fuente']\n",
    "    config_bodega = config['bodega']\n",
    "\n",
    "# URLs de conexión\n",
    "url_fuente = (f\"{config_fuente['driver']}://{config_fuente['user']}:{config_fuente['password']}@\"\n",
    "              f\"{config_fuente['host']}:{config_fuente['port']}/{config_fuente['db']}\")\n",
    "\n",
    "url_bodega = (f\"{config_bodega['driver']}://{config_bodega['user']}:{config_bodega['password']}@\"\n",
    "              f\"{config_bodega['host']}:{config_bodega['port']}/{config_bodega['db']}\")\n",
    "\n",
    "# Engines SQLAlchemy\n",
    "engine_fuente = create_engine(url_fuente)\n",
    "engine_bodega = create_engine(url_bodega)"
   ]
  },
  {
   "cell_type": "markdown",
   "id": "46c43215-c7ee-410d-ad6c-342927fd3c0b",
   "metadata": {},
   "source": [
    "## 2. Extracción de datos desde la base de datos - Extract"
   ]
  },
  {
   "cell_type": "code",
   "execution_count": 40,
   "id": "7f8f99a3-5c65-4ad2-971f-7b30b4549ebf",
   "metadata": {},
   "outputs": [
    {
     "name": "stdout",
     "output_type": "stream",
     "text": [
      "Tablas de la base de datos:\n",
      "['admin_interface_theme', 'areas_cliente', 'auth_user_user_permissions', 'clientes_coordinador', 'clientes_datosmensajero', 'clientes_mensajeroaquitoy_clientes', 'auth_permission', 'auth_group', 'auth_user_groups', 'auth_user', 'authtoken_token', 'ciudad', 'cliente', 'clientes_mensajeroaquitoy', 'area', 'django_migrations', 'departamento', 'clientes_usuarioaquitoy', 'django_admin_log', 'django_session', 'mensajeria_novedadesservicio', 'mensajeria_tiponovedad', 'mensajeria_origenservicio', 'mensajeria_tipopago', 'mensajeria_estado', 'mensajeria_tiposervicio', 'mensajeria_servicio', 'mensajeria_estadosservicio', 'mensajeria_tipovehiculo', 'sede', 'auth_group_permissions', 'django_content_type', 'tipo_cliente', 'mensajeria_destinoservicio', 'mensajeria_documentoasociado']\n"
     ]
    }
   ],
   "source": [
    "from sqlalchemy import inspect\n",
    "\n",
    "# Saber las columnas que hay en la base de datos OLTP\n",
    "inspector = inspect(engine_fuente)\n",
    "tablas = inspector.get_table_names()\n",
    "print(\"Tablas de la base de datos:\")\n",
    "print(tablas)"
   ]
  },
  {
   "cell_type": "code",
   "execution_count": 41,
   "id": "e339c607-d575-47e9-85a1-b538cd1b8bad",
   "metadata": {},
   "outputs": [
    {
     "data": {
      "text/html": [
       "<div>\n",
       "<style scoped>\n",
       "    .dataframe tbody tr th:only-of-type {\n",
       "        vertical-align: middle;\n",
       "    }\n",
       "\n",
       "    .dataframe tbody tr th {\n",
       "        vertical-align: top;\n",
       "    }\n",
       "\n",
       "    .dataframe thead th {\n",
       "        text-align: right;\n",
       "    }\n",
       "</style>\n",
       "<table border=\"1\" class=\"dataframe\">\n",
       "  <thead>\n",
       "    <tr style=\"text-align: right;\">\n",
       "      <th></th>\n",
       "      <th>cliente_id</th>\n",
       "      <th>nit_cliente</th>\n",
       "      <th>nombre</th>\n",
       "      <th>email</th>\n",
       "      <th>direccion</th>\n",
       "      <th>telefono</th>\n",
       "      <th>nombre_contacto</th>\n",
       "      <th>ciudad_id</th>\n",
       "      <th>tipo_cliente_id</th>\n",
       "      <th>activo</th>\n",
       "      <th>coordinador_id</th>\n",
       "      <th>sector</th>\n",
       "    </tr>\n",
       "  </thead>\n",
       "  <tbody>\n",
       "    <tr>\n",
       "      <th>0</th>\n",
       "      <td>1</td>\n",
       "      <td>25</td>\n",
       "      <td>Cliente 2</td>\n",
       "      <td>algo.com</td>\n",
       "      <td>Calle 100 No 25-18</td>\n",
       "      <td>327-00000</td>\n",
       "      <td>Cristiano Ronaldo</td>\n",
       "      <td>1</td>\n",
       "      <td>1</td>\n",
       "      <td>True</td>\n",
       "      <td>NaN</td>\n",
       "      <td>S</td>\n",
       "    </tr>\n",
       "    <tr>\n",
       "      <th>1</th>\n",
       "      <td>2</td>\n",
       "      <td>123</td>\n",
       "      <td>Cliente 1</td>\n",
       "      <td>algo.com</td>\n",
       "      <td>Calle 100 No 25-18</td>\n",
       "      <td>327-00000</td>\n",
       "      <td>Cristiano Ronaldo</td>\n",
       "      <td>1</td>\n",
       "      <td>1</td>\n",
       "      <td>True</td>\n",
       "      <td>2.0</td>\n",
       "      <td>industrial</td>\n",
       "    </tr>\n",
       "    <tr>\n",
       "      <th>2</th>\n",
       "      <td>6</td>\n",
       "      <td>24390-3</td>\n",
       "      <td>CLINICA  DEPORTIVA DEL SUR</td>\n",
       "      <td>algo.com</td>\n",
       "      <td>Calle 100 No 25-18</td>\n",
       "      <td>327-00000</td>\n",
       "      <td>Cristiano Ronaldo</td>\n",
       "      <td>1</td>\n",
       "      <td>1</td>\n",
       "      <td>True</td>\n",
       "      <td>1.0</td>\n",
       "      <td>salud</td>\n",
       "    </tr>\n",
       "    <tr>\n",
       "      <th>3</th>\n",
       "      <td>19</td>\n",
       "      <td>8301821</td>\n",
       "      <td>HOSPITAL ORTOPEDICO DE COLOMBIA</td>\n",
       "      <td>algo.com</td>\n",
       "      <td>Calle 100 No 25-18</td>\n",
       "      <td>327-00000</td>\n",
       "      <td>Cristiano Ronaldo</td>\n",
       "      <td>1</td>\n",
       "      <td>1</td>\n",
       "      <td>True</td>\n",
       "      <td>NaN</td>\n",
       "      <td>salud</td>\n",
       "    </tr>\n",
       "    <tr>\n",
       "      <th>4</th>\n",
       "      <td>8</td>\n",
       "      <td>5017350-8</td>\n",
       "      <td>CLINICA NEFROLOGOS  DE CALI</td>\n",
       "      <td>algo.com</td>\n",
       "      <td>Calle 100 No 25-18</td>\n",
       "      <td>327-00000</td>\n",
       "      <td>Cristiano Ronaldo</td>\n",
       "      <td>1</td>\n",
       "      <td>1</td>\n",
       "      <td>True</td>\n",
       "      <td>NaN</td>\n",
       "      <td>salud</td>\n",
       "    </tr>\n",
       "  </tbody>\n",
       "</table>\n",
       "</div>"
      ],
      "text/plain": [
       "   cliente_id nit_cliente                           nombre     email  \\\n",
       "0           1          25                        Cliente 2  algo.com   \n",
       "1           2         123                        Cliente 1  algo.com   \n",
       "2           6     24390-3       CLINICA  DEPORTIVA DEL SUR  algo.com   \n",
       "3          19     8301821  HOSPITAL ORTOPEDICO DE COLOMBIA  algo.com   \n",
       "4           8   5017350-8      CLINICA NEFROLOGOS  DE CALI  algo.com   \n",
       "\n",
       "            direccion   telefono    nombre_contacto  ciudad_id  \\\n",
       "0  Calle 100 No 25-18  327-00000  Cristiano Ronaldo          1   \n",
       "1  Calle 100 No 25-18  327-00000  Cristiano Ronaldo          1   \n",
       "2  Calle 100 No 25-18  327-00000  Cristiano Ronaldo          1   \n",
       "3  Calle 100 No 25-18  327-00000  Cristiano Ronaldo          1   \n",
       "4  Calle 100 No 25-18  327-00000  Cristiano Ronaldo          1   \n",
       "\n",
       "   tipo_cliente_id  activo  coordinador_id      sector  \n",
       "0                1    True             NaN           S  \n",
       "1                1    True             2.0  industrial  \n",
       "2                1    True             1.0       salud  \n",
       "3                1    True             NaN       salud  \n",
       "4                1    True             NaN       salud  "
      ]
     },
     "execution_count": 41,
     "metadata": {},
     "output_type": "execute_result"
    }
   ],
   "source": [
    "# Extracción de datos desde las tablas cliente y tipo_cliente\n",
    "df_cliente_raw = pd.read_sql(\"SELECT * FROM cliente;\", engine_fuente)\n",
    "df_tipo_cliente = pd.read_sql(\"SELECT * FROM tipo_cliente;\", engine_fuente)\n",
    "\n",
    "# Vista\n",
    "df_cliente_raw.head()"
   ]
  },
  {
   "cell_type": "markdown",
   "id": "c4e90972-bb55-4977-9325-28141977c04b",
   "metadata": {},
   "source": [
    "## 3. Transformación de los datos - Transform"
   ]
  },
  {
   "cell_type": "code",
   "execution_count": 42,
   "id": "0646c469-6bd4-4b46-a479-f98bc2462a68",
   "metadata": {},
   "outputs": [],
   "source": [
    "# Unión de cliente con tipo_cliente\n",
    "df_cliente = df_cliente_raw.merge(\n",
    "    df_tipo_cliente,\n",
    "    left_on='tipo_cliente_id',\n",
    "    right_on='tipo_cliente_id',\n",
    "    how='left',\n",
    "    suffixes=('', '_tipo')  # para evitar colisión de nombres\n",
    ")"
   ]
  },
  {
   "cell_type": "code",
   "execution_count": 43,
   "id": "7f94d315-3614-41fb-9c14-cf945f96b1a7",
   "metadata": {},
   "outputs": [],
   "source": [
    "# Selección y renombre de columnas\n",
    "df_dim_cliente = df_cliente[[\n",
    "    'cliente_id',\n",
    "    'nombre',\n",
    "    'nombre_tipo'\n",
    "]].rename(columns={\n",
    "    'cliente_id': 'id_cliente',\n",
    "    'nombre': 'Nombre_Cliente',\n",
    "    'nombre_tipo': 'Tipo_Cliente'\n",
    "})"
   ]
  },
  {
   "cell_type": "code",
   "execution_count": 44,
   "id": "ee7d6391-f075-4383-88a1-c0cabc75b2f5",
   "metadata": {},
   "outputs": [
    {
     "name": "stdout",
     "output_type": "stream",
     "text": [
      "   id_cliente                   Nombre_Cliente      Tipo_Cliente\n",
      "0           1                        Cliente 2  Persona Juridica\n",
      "1           2                        Cliente 1  Persona Juridica\n",
      "2           6       CLINICA  DEPORTIVA DEL SUR  Persona Juridica\n",
      "3          19  HOSPITAL ORTOPEDICO DE COLOMBIA  Persona Juridica\n",
      "4           8      CLINICA NEFROLOGOS  DE CALI  Persona Juridica\n"
     ]
    }
   ],
   "source": [
    "# Verificar\n",
    "print(df_dim_cliente.head())"
   ]
  },
  {
   "cell_type": "code",
   "execution_count": 45,
   "id": "b513a332-4065-402b-9146-eebf04a4f94c",
   "metadata": {},
   "outputs": [],
   "source": [
    "from datetime import datetime\n",
    "\n",
    "# Agregar columna de fecha de carga\n",
    "df_dim_cliente[\"fecha_carga\"] = datetime.now().date()"
   ]
  },
  {
   "cell_type": "code",
   "execution_count": 46,
   "id": "614a3ea0-2746-4f96-a4ee-785de47e7bad",
   "metadata": {},
   "outputs": [],
   "source": [
    "# Eliminar duplicados\n",
    "df_dim_cliente = df_dim_cliente.drop_duplicates(subset=['id_cliente'])"
   ]
  },
  {
   "cell_type": "code",
   "execution_count": 47,
   "id": "c10126e5-f6a0-409d-9282-a70a44d460c8",
   "metadata": {},
   "outputs": [
    {
     "data": {
      "text/html": [
       "<div>\n",
       "<style scoped>\n",
       "    .dataframe tbody tr th:only-of-type {\n",
       "        vertical-align: middle;\n",
       "    }\n",
       "\n",
       "    .dataframe tbody tr th {\n",
       "        vertical-align: top;\n",
       "    }\n",
       "\n",
       "    .dataframe thead th {\n",
       "        text-align: right;\n",
       "    }\n",
       "</style>\n",
       "<table border=\"1\" class=\"dataframe\">\n",
       "  <thead>\n",
       "    <tr style=\"text-align: right;\">\n",
       "      <th></th>\n",
       "      <th>id_cliente</th>\n",
       "      <th>Nombre_Cliente</th>\n",
       "      <th>Tipo_Cliente</th>\n",
       "      <th>fecha_carga</th>\n",
       "    </tr>\n",
       "  </thead>\n",
       "  <tbody>\n",
       "    <tr>\n",
       "      <th>0</th>\n",
       "      <td>1</td>\n",
       "      <td>Cliente 2</td>\n",
       "      <td>Persona Juridica</td>\n",
       "      <td>2025-06-05</td>\n",
       "    </tr>\n",
       "    <tr>\n",
       "      <th>1</th>\n",
       "      <td>2</td>\n",
       "      <td>Cliente 1</td>\n",
       "      <td>Persona Juridica</td>\n",
       "      <td>2025-06-05</td>\n",
       "    </tr>\n",
       "    <tr>\n",
       "      <th>2</th>\n",
       "      <td>6</td>\n",
       "      <td>CLINICA  DEPORTIVA DEL SUR</td>\n",
       "      <td>Persona Juridica</td>\n",
       "      <td>2025-06-05</td>\n",
       "    </tr>\n",
       "    <tr>\n",
       "      <th>3</th>\n",
       "      <td>19</td>\n",
       "      <td>HOSPITAL ORTOPEDICO DE COLOMBIA</td>\n",
       "      <td>Persona Juridica</td>\n",
       "      <td>2025-06-05</td>\n",
       "    </tr>\n",
       "    <tr>\n",
       "      <th>4</th>\n",
       "      <td>8</td>\n",
       "      <td>CLINICA NEFROLOGOS  DE CALI</td>\n",
       "      <td>Persona Juridica</td>\n",
       "      <td>2025-06-05</td>\n",
       "    </tr>\n",
       "  </tbody>\n",
       "</table>\n",
       "</div>"
      ],
      "text/plain": [
       "   id_cliente                   Nombre_Cliente      Tipo_Cliente fecha_carga\n",
       "0           1                        Cliente 2  Persona Juridica  2025-06-05\n",
       "1           2                        Cliente 1  Persona Juridica  2025-06-05\n",
       "2           6       CLINICA  DEPORTIVA DEL SUR  Persona Juridica  2025-06-05\n",
       "3          19  HOSPITAL ORTOPEDICO DE COLOMBIA  Persona Juridica  2025-06-05\n",
       "4           8      CLINICA NEFROLOGOS  DE CALI  Persona Juridica  2025-06-05"
      ]
     },
     "execution_count": 47,
     "metadata": {},
     "output_type": "execute_result"
    }
   ],
   "source": [
    "# Verificar resultado\n",
    "df_dim_cliente.head()"
   ]
  },
  {
   "cell_type": "markdown",
   "id": "73833465-54de-4aaf-ba5c-9f0052fcfe28",
   "metadata": {},
   "source": [
    "## 4. Guardado de la dimensión - Load"
   ]
  },
  {
   "cell_type": "code",
   "execution_count": 48,
   "id": "dc3ab7d8-cda4-4d75-bb85-72b29f4f80b0",
   "metadata": {},
   "outputs": [],
   "source": [
    "# Guardar como archivo CSV\n",
    "df_dim_cliente.to_csv(\"dim_cliente.csv\", index=False)"
   ]
  },
  {
   "cell_type": "code",
   "execution_count": 49,
   "id": "dcd4b17d-7f95-4245-8ebf-a1647dbaa6af",
   "metadata": {},
   "outputs": [
    {
     "data": {
      "text/plain": [
       "27"
      ]
     },
     "execution_count": 49,
     "metadata": {},
     "output_type": "execute_result"
    }
   ],
   "source": [
    "# Cargar en la bodega de datos OLAP\n",
    "df_dim_cliente.to_sql(\"dim_cliente\", engine_bodega, if_exists=\"replace\", index=False)"
   ]
  },
  {
   "cell_type": "code",
   "execution_count": 50,
   "id": "a3049b1f-4604-44ef-a99f-c755462bb372",
   "metadata": {},
   "outputs": [
    {
     "name": "stdout",
     "output_type": "stream",
     "text": [
      "   id_cliente                   Nombre_Cliente      Tipo_Cliente fecha_carga\n",
      "0           1                        Cliente 2  Persona Juridica  2025-06-05\n",
      "1           2                        Cliente 1  Persona Juridica  2025-06-05\n",
      "2           6       CLINICA  DEPORTIVA DEL SUR  Persona Juridica  2025-06-05\n",
      "3          19  HOSPITAL ORTOPEDICO DE COLOMBIA  Persona Juridica  2025-06-05\n",
      "4           8      CLINICA NEFROLOGOS  DE CALI  Persona Juridica  2025-06-05\n"
     ]
    }
   ],
   "source": [
    "# Verificación del archivo\n",
    "df_verificacion = pd.read_csv(\"dim_cliente.csv\")\n",
    "print(df_verificacion.head())"
   ]
  }
 ],
 "metadata": {
  "kernelspec": {
   "display_name": "Python 3 (ipykernel)",
   "language": "python",
   "name": "python3"
  },
  "language_info": {
   "codemirror_mode": {
    "name": "ipython",
    "version": 3
   },
   "file_extension": ".py",
   "mimetype": "text/x-python",
   "name": "python",
   "nbconvert_exporter": "python",
   "pygments_lexer": "ipython3",
   "version": "3.13.0"
  }
 },
 "nbformat": 4,
 "nbformat_minor": 5
}
